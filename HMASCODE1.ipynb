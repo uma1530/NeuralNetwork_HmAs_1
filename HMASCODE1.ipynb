{
  "nbformat": 4,
  "nbformat_minor": 0,
  "metadata": {
    "colab": {
      "provenance": []
    },
    "kernelspec": {
      "name": "python3",
      "display_name": "Python 3"
    },
    "language_info": {
      "name": "python"
    }
  },
  "cells": [
    {
      "cell_type": "markdown",
      "source": [
        "Code:1 Tensor Manipulations & Reshaping"
      ],
      "metadata": {
        "id": "BipZAHf-UnhG"
      }
    },
    {
      "cell_type": "code",
      "execution_count": null,
      "metadata": {
        "colab": {
          "base_uri": "https://localhost:8080/"
        },
        "id": "xaUgdV5xT5jW",
        "outputId": "1bd02ba6-a386-417e-ec68-245262518a59"
      },
      "outputs": [
        {
          "output_type": "stream",
          "name": "stdout",
          "text": [
            "Original Tensor:\n",
            "[[0.94307387 0.42130363 0.67504215 0.51269495 0.8808943  0.67413473]\n",
            " [0.64856195 0.749619   0.15548384 0.64967096 0.05832589 0.07249093]\n",
            " [0.98568    0.06801534 0.327708   0.45786226 0.64013445 0.5540211 ]\n",
            " [0.44473934 0.65900457 0.509315   0.45456016 0.21887541 0.3033254 ]]\n",
            "Rank: 2, Shape: [4 6]\n",
            "Reshaped Tensor Shape: (2, 3, 4)\n",
            "Transposed Tensor Shape: (3, 2, 4)\n",
            "Broadcasted Tensor Shape: (3, 2, 4)\n",
            "\n",
            "Broadcasting in TensorFlow allows tensors with different shapes to be combined in arithmetic operations. \n",
            "The smaller tensor is automatically expanded along the missing dimensions to match the shape of the larger tensor.\n",
            "For example, a (1,4) tensor gets expanded to (3,2,4) when added to a (3,2,4) tensor.\n",
            "\n"
          ]
        }
      ],
      "source": [
        "import tensorflow as tf\n",
        "\n",
        "# 1. Create a random tensor of shape (4,6)\n",
        "tensor = tf.random.uniform(shape=(4, 6))\n",
        "\n",
        "# 2. Find its rank and shape\n",
        "rank = tf.rank(tensor)\n",
        "shape = tf.shape(tensor)\n",
        "\n",
        "# Print rank and shape before reshaping\n",
        "print(\"Original Tensor:\")\n",
        "print(tensor.numpy())\n",
        "print(f\"Rank: {rank.numpy()}, Shape: {shape.numpy()}\")\n",
        "\n",
        "# 3. Reshape into (2, 3, 4)\n",
        "reshaped_tensor = tf.reshape(tensor, (2, 3, 4))\n",
        "\n",
        "# Transpose to (3, 2, 4)\n",
        "transposed_tensor = tf.transpose(reshaped_tensor, perm=[1, 0, 2])\n",
        "\n",
        "# Print shape after reshaping and transposing\n",
        "print(f\"Reshaped Tensor Shape: {reshaped_tensor.shape}\")\n",
        "print(f\"Transposed Tensor Shape: {transposed_tensor.shape}\")\n",
        "\n",
        "# 4. Broadcasting a smaller tensor (1,4) to match (3,2,4)\n",
        "small_tensor = tf.random.uniform(shape=(1, 4))\n",
        "broadcasted_tensor = small_tensor + transposed_tensor  # Broadcasting occurs here\n",
        "\n",
        "# Print the result after broadcasting\n",
        "print(\"Broadcasted Tensor Shape:\", broadcasted_tensor.shape)\n",
        "\n",
        "# 5. Explanation of Broadcasting\n",
        "explanation = \"\"\"\n",
        "Broadcasting in TensorFlow allows tensors with different shapes to be combined in arithmetic operations.\n",
        "The smaller tensor is automatically expanded along the missing dimensions to match the shape of the larger tensor.\n",
        "For example, a (1,4) tensor gets expanded to (3,2,4) when added to a (3,2,4) tensor.\n",
        "\"\"\"\n",
        "\n",
        "print(explanation)\n"
      ]
    }
  ]
}